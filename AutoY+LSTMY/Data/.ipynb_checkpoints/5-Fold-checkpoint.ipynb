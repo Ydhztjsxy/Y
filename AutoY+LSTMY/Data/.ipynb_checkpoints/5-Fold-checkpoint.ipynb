{
 "cells": [
  {
   "cell_type": "code",
   "execution_count": 1,
   "id": "cb5afed6",
   "metadata": {},
   "outputs": [
    {
     "name": "stdout",
     "output_type": "stream",
     "text": [
      "Total number of files in ../Data/RA/Total/: 322\n",
      "C:\\Users\\solfi\\Autoimmunity\\AutoY\\Data\\RA\\F1: 64 files\n",
      "C:\\Users\\solfi\\Autoimmunity\\AutoY\\Data\\RA\\F2: 64 files\n",
      "C:\\Users\\solfi\\Autoimmunity\\AutoY\\Data\\RA\\F3: 64 files\n",
      "C:\\Users\\solfi\\Autoimmunity\\AutoY\\Data\\RA\\F4: 64 files\n",
      "C:\\Users\\solfi\\Autoimmunity\\AutoY\\Data\\RA\\F5: 66 files\n"
     ]
    }
   ],
   "source": [
    "import os\n",
    "import random\n",
    "import shutil\n",
    "\n",
    "# 指定数据集文件夹和输出文件夹\n",
    "data_dir =  '../Data/RA/Total/'\n",
    "num_files = len(os.listdir(data_dir))\n",
    "print(f'Total number of files in {data_dir}: {num_files}')\n",
    "output_dir_parent = os.path.abspath(os.path.join(data_dir, os.pardir))\n",
    "output_dirs = [os.path.join(output_dir_parent, f'F{i}') for i in range(1, 6)]\n",
    "\n",
    "# 获取数据集中所有文件的路径\n",
    "file_paths = [os.path.join(data_dir, f) for f in os.listdir(data_dir)]\n",
    "\n",
    "# 打乱文件顺序\n",
    "random.shuffle(file_paths)\n",
    "\n",
    "# 计算每个输出文件夹应该包含的文件数量\n",
    "num_files_per_dir = len(file_paths) // len(output_dirs)\n",
    "\n",
    "# 把文件分配到输出文件夹中\n",
    "for i, output_dir in enumerate(output_dirs):\n",
    "    # 创建输出文件夹\n",
    "    os.makedirs(output_dir, exist_ok=True)\n",
    "    \n",
    "    # 计算当前输出文件夹应该包含的文件范围\n",
    "    start_idx = i * num_files_per_dir\n",
    "    end_idx = start_idx + num_files_per_dir\n",
    "    \n",
    "    # 把文件复制到输出文件夹中\n",
    "    for file_path in file_paths[start_idx:end_idx]:\n",
    "        shutil.copy(file_path, output_dir)\n",
    "    \n",
    "    # 如果是最后一个文件夹，把余出的文件加进去\n",
    "    if i == len(output_dirs) - 1:\n",
    "        for file_path in file_paths[end_idx:]:\n",
    "            shutil.copy(file_path, output_dir)\n",
    "        for output_dir in output_dirs:\n",
    "            num_files = len(os.listdir(output_dir))\n",
    "            print(f'{output_dir}: {num_files} files')            "
   ]
  },
  {
   "cell_type": "code",
   "execution_count": 2,
   "id": "d5dd81f4",
   "metadata": {},
   "outputs": [],
   "source": [
    "# 定义原始数据所在的文件夹路径\n",
    "data_folder = '../Data/RA/'\n",
    "\n",
    "# 定义新文件夹的名称\n",
    "te_folder_prefix = \"TE\"\n",
    "tn_folder_prefix = \"TN\"\n",
    "\n",
    "# 定义新文件夹的数量\n",
    "num_folders = 5\n",
    "\n",
    "# 循环遍历每个文件夹，将数据复制到新的文件夹中\n",
    "for i in range(num_folders):\n",
    "    # 定义新文件夹的名称\n",
    "    te_folder_name = te_folder_prefix + str(i+1)\n",
    "    tn_folder_name = tn_folder_prefix + str(i+1)\n",
    "    \n",
    "    # 创建新的文件夹\n",
    "    os.makedirs(os.path.join(data_folder, te_folder_name))\n",
    "    os.makedirs(os.path.join(data_folder, tn_folder_name))\n",
    "    \n",
    "    # 循环遍历每个原始文件夹，将样本复制到新的文件夹中\n",
    "    for j in range(num_folders):\n",
    "        if j == i:\n",
    "            # 将F1到F5中当前文件夹的样本复制到TE文件夹中\n",
    "            for file_name in os.listdir(os.path.join(data_folder, \"F\"+str(j+1))):\n",
    "                shutil.copy2(os.path.join(data_folder, \"F\"+str(j+1), file_name), os.path.join(data_folder, te_folder_name))\n",
    "        else:\n",
    "            # 将F1到F5中非当前文件夹的样本复制到TN文件夹中\n",
    "            for file_name in os.listdir(os.path.join(data_folder, \"F\"+str(j+1))):\n",
    "                shutil.copy2(os.path.join(data_folder, \"F\"+str(j+1), file_name), os.path.join(data_folder, tn_folder_name))"
   ]
  },
  {
   "cell_type": "code",
   "execution_count": null,
   "id": "15e21e5b",
   "metadata": {},
   "outputs": [],
   "source": []
  }
 ],
 "metadata": {
  "kernelspec": {
   "display_name": "Python 3 (ipykernel)",
   "language": "python",
   "name": "python3"
  },
  "language_info": {
   "codemirror_mode": {
    "name": "ipython",
    "version": 3
   },
   "file_extension": ".py",
   "mimetype": "text/x-python",
   "name": "python",
   "nbconvert_exporter": "python",
   "pygments_lexer": "ipython3",
   "version": "3.10.9"
  }
 },
 "nbformat": 4,
 "nbformat_minor": 5
}
