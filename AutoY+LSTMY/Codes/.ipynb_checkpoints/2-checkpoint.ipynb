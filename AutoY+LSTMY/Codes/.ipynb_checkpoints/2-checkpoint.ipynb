{
 "cells": [
  {
   "cell_type": "code",
   "execution_count": 13,
   "id": "bed5a1e7",
   "metadata": {},
   "outputs": [
    {
     "name": "stdout",
     "output_type": "stream",
     "text": [
      "已保存处理后的文件路径: ../D/OL1/P_1.tsv\n",
      "已保存处理后的文件路径: ../D/OL1/P_2.tsv\n"
     ]
    },
    {
     "name": "stderr",
     "output_type": "stream",
     "text": [
      "C:\\Users\\solfi\\AppData\\Local\\Temp\\ipykernel_28412\\1383244425.py:47: DtypeWarning: Columns (62,81,82,83,88,93,99,100,101,104,105,112,115) have mixed types. Specify dtype option on import or set low_memory=False.\n",
      "  df = pd.read_table(f)\n"
     ]
    },
    {
     "name": "stdout",
     "output_type": "stream",
     "text": [
      "已保存处理后的文件路径: ../D/OL1/P_3.tsv\n"
     ]
    },
    {
     "name": "stderr",
     "output_type": "stream",
     "text": [
      "C:\\Users\\solfi\\AppData\\Local\\Temp\\ipykernel_28412\\1383244425.py:47: DtypeWarning: Columns (62,81,82,83,88,93,99,100,101,104,105,112,115) have mixed types. Specify dtype option on import or set low_memory=False.\n",
      "  df = pd.read_table(f)\n"
     ]
    },
    {
     "name": "stdout",
     "output_type": "stream",
     "text": [
      "已保存处理后的文件路径: ../D/OL1/P_4.tsv\n"
     ]
    },
    {
     "name": "stderr",
     "output_type": "stream",
     "text": [
      "C:\\Users\\solfi\\AppData\\Local\\Temp\\ipykernel_28412\\1383244425.py:47: DtypeWarning: Columns (81,82,83,93) have mixed types. Specify dtype option on import or set low_memory=False.\n",
      "  df = pd.read_table(f)\n"
     ]
    },
    {
     "name": "stdout",
     "output_type": "stream",
     "text": [
      "已保存处理后的文件路径: ../D/OL1/P_5.tsv\n"
     ]
    },
    {
     "name": "stderr",
     "output_type": "stream",
     "text": [
      "C:\\Users\\solfi\\AppData\\Local\\Temp\\ipykernel_28412\\1383244425.py:47: DtypeWarning: Columns (81,82,83,93) have mixed types. Specify dtype option on import or set low_memory=False.\n",
      "  df = pd.read_table(f)\n"
     ]
    },
    {
     "name": "stdout",
     "output_type": "stream",
     "text": [
      "已保存处理后的文件路径: ../D/OL1/P_6.tsv\n"
     ]
    },
    {
     "name": "stderr",
     "output_type": "stream",
     "text": [
      "C:\\Users\\solfi\\AppData\\Local\\Temp\\ipykernel_28412\\1383244425.py:47: DtypeWarning: Columns (81,82,83,93) have mixed types. Specify dtype option on import or set low_memory=False.\n",
      "  df = pd.read_table(f)\n"
     ]
    },
    {
     "name": "stdout",
     "output_type": "stream",
     "text": [
      "已保存处理后的文件路径: ../D/OL1/P_7.tsv\n"
     ]
    },
    {
     "name": "stderr",
     "output_type": "stream",
     "text": [
      "C:\\Users\\solfi\\AppData\\Local\\Temp\\ipykernel_28412\\1383244425.py:47: DtypeWarning: Columns (81,82,83) have mixed types. Specify dtype option on import or set low_memory=False.\n",
      "  df = pd.read_table(f)\n"
     ]
    },
    {
     "name": "stdout",
     "output_type": "stream",
     "text": [
      "已保存处理后的文件路径: ../D/OL1/P_8.tsv\n"
     ]
    },
    {
     "name": "stderr",
     "output_type": "stream",
     "text": [
      "C:\\Users\\solfi\\AppData\\Local\\Temp\\ipykernel_28412\\1383244425.py:47: DtypeWarning: Columns (81,83,88,93) have mixed types. Specify dtype option on import or set low_memory=False.\n",
      "  df = pd.read_table(f)\n"
     ]
    },
    {
     "name": "stdout",
     "output_type": "stream",
     "text": [
      "已保存处理后的文件路径: ../D/OL1/P_9.tsv\n"
     ]
    },
    {
     "name": "stderr",
     "output_type": "stream",
     "text": [
      "C:\\Users\\solfi\\AppData\\Local\\Temp\\ipykernel_28412\\1383244425.py:47: DtypeWarning: Columns (81,82,88) have mixed types. Specify dtype option on import or set low_memory=False.\n",
      "  df = pd.read_table(f)\n"
     ]
    },
    {
     "name": "stdout",
     "output_type": "stream",
     "text": [
      "已保存处理后的文件路径: ../D/OL1/P_10.tsv\n"
     ]
    },
    {
     "name": "stderr",
     "output_type": "stream",
     "text": [
      "C:\\Users\\solfi\\AppData\\Local\\Temp\\ipykernel_28412\\1383244425.py:47: DtypeWarning: Columns (81,82,83,88,93) have mixed types. Specify dtype option on import or set low_memory=False.\n",
      "  df = pd.read_table(f)\n"
     ]
    },
    {
     "name": "stdout",
     "output_type": "stream",
     "text": [
      "已保存处理后的文件路径: ../D/OL1/P_11.tsv\n"
     ]
    },
    {
     "name": "stderr",
     "output_type": "stream",
     "text": [
      "C:\\Users\\solfi\\AppData\\Local\\Temp\\ipykernel_28412\\1383244425.py:47: DtypeWarning: Columns (81,82,83) have mixed types. Specify dtype option on import or set low_memory=False.\n",
      "  df = pd.read_table(f)\n"
     ]
    },
    {
     "name": "stdout",
     "output_type": "stream",
     "text": [
      "已保存处理后的文件路径: ../D/OL1/P_12.tsv\n"
     ]
    },
    {
     "name": "stderr",
     "output_type": "stream",
     "text": [
      "C:\\Users\\solfi\\AppData\\Local\\Temp\\ipykernel_28412\\1383244425.py:47: DtypeWarning: Columns (81,82,83) have mixed types. Specify dtype option on import or set low_memory=False.\n",
      "  df = pd.read_table(f)\n"
     ]
    },
    {
     "name": "stdout",
     "output_type": "stream",
     "text": [
      "已保存处理后的文件路径: ../D/OL1/P_13.tsv\n",
      "已保存处理后的文件路径: ../D/OL1/P_14.tsv\n"
     ]
    },
    {
     "name": "stderr",
     "output_type": "stream",
     "text": [
      "C:\\Users\\solfi\\AppData\\Local\\Temp\\ipykernel_28412\\1383244425.py:47: DtypeWarning: Columns (62,81,82,83,93,99,100,101,104,105,112,115) have mixed types. Specify dtype option on import or set low_memory=False.\n",
      "  df = pd.read_table(f)\n"
     ]
    },
    {
     "name": "stdout",
     "output_type": "stream",
     "text": [
      "已保存处理后的文件路径: ../D/OL1/P_15.tsv\n"
     ]
    },
    {
     "name": "stderr",
     "output_type": "stream",
     "text": [
      "C:\\Users\\solfi\\AppData\\Local\\Temp\\ipykernel_28412\\1383244425.py:47: DtypeWarning: Columns (81,82,83,88,93) have mixed types. Specify dtype option on import or set low_memory=False.\n",
      "  df = pd.read_table(f)\n"
     ]
    },
    {
     "name": "stdout",
     "output_type": "stream",
     "text": [
      "已保存处理后的文件路径: ../D/OL1/P_16.tsv\n",
      "已保存处理后的文件路径: ../D/OL1/P_17.tsv\n"
     ]
    },
    {
     "name": "stderr",
     "output_type": "stream",
     "text": [
      "C:\\Users\\solfi\\AppData\\Local\\Temp\\ipykernel_28412\\1383244425.py:47: DtypeWarning: Columns (81,83,88,93) have mixed types. Specify dtype option on import or set low_memory=False.\n",
      "  df = pd.read_table(f)\n"
     ]
    },
    {
     "name": "stdout",
     "output_type": "stream",
     "text": [
      "已保存处理后的文件路径: ../D/OL1/P_18.tsv\n",
      "已保存处理后的文件路径: ../D/OL1/P_19.tsv\n"
     ]
    },
    {
     "name": "stderr",
     "output_type": "stream",
     "text": [
      "C:\\Users\\solfi\\AppData\\Local\\Temp\\ipykernel_28412\\1383244425.py:47: DtypeWarning: Columns (81,82,83,93) have mixed types. Specify dtype option on import or set low_memory=False.\n",
      "  df = pd.read_table(f)\n"
     ]
    }
   ],
   "source": [
    "import pandas as pd\n",
    "from glob import glob\n",
    "import os\n",
    "from typing import List\n",
    "\n",
    "# Define the read file function\n",
    "def read_tsv(filename: str, columns_to_extract: List[int], skip_first_line: bool = False, file_encoding: str = \"utf8\") -> List[List[str]]:\n",
    "    extracted_data = []\n",
    "\n",
    "    try:\n",
    "        with open(filename, \"r\", encoding=file_encoding) as tsv_file:\n",
    "            if skip_first_line:\n",
    "                tsv_file.readline()\n",
    "\n",
    "            line = tsv_file.readline()\n",
    "\n",
    "            while line:\n",
    "                line_list = line.strip().split(\"\\t\")\n",
    "                extracted_row = [line_list[column_index] for column_index in columns_to_extract]\n",
    "                extracted_data.append(extracted_row)\n",
    "                line = tsv_file.readline()\n",
    "\n",
    "    except FileNotFoundError:\n",
    "        print(f\"File '{filename}' non-existent.\")\n",
    "\n",
    "    return extracted_data\n",
    "\n",
    "# Define data processing functions\n",
    "def filter_sequence(raw):\n",
    "    aa_set = set([\"A\", \"R\", \"N\", \"D\", \"C\", \"E\", \"Q\", \"G\", \"H\", \"I\", \"L\", \"K\", \"M\", \"F\", \"P\", \"S\", \"T\", \"W\", \"Y\", \"V\"])\n",
    "\n",
    "    result = [seq for seq in raw if (\n",
    "        10 <= len(seq[0]) <= 24 and\n",
    "        all(aa in aa_set for aa in seq[0]) and\n",
    "        seq[0][0].upper() == \"C\" and\n",
    "        seq[0][-1].upper() == \"F\"\n",
    "    )]\n",
    "\n",
    "    return result\n",
    "\n",
    "\n",
    "source_dir =  #Original file path\n",
    "output = #Save the path to the processed file\n",
    "\n",
    "\n",
    "if not os.path.exists(output):\n",
    "    os.makedirs(output)\n",
    "\n",
    "# Processing data    \n",
    "file_list = glob(source_dir + \"*.tsv\")\n",
    "for i, f in enumerate(file_list):\n",
    "    df = pd.read_table(f)\n",
    "    df = df[['amino_acid', 'frequency']]\n",
    "    df.columns = [\"TCR\", \"Abundance\"]\n",
    "    df = df.dropna()\n",
    "    df = df.sort_values(by=\"Abundance\", ascending=False).iloc[:, :]\n",
    "    df.reset_index(inplace=True, drop=True)\n",
    "\n",
    "    info_index = [0, 1]\n",
    "\n",
    "    raw_file = df.values.tolist()\n",
    "    processed_file = filter_sequence(raw_file)\n",
    "    output_file = sorted(processed_file, key=lambda x: float(x[1]), reverse=True)[:100]\n",
    "\n",
    "    output_file_path = os.path.join(output, f\"P_{i+1}.tsv\")\n",
    "\n",
    "    with open(output_file_path, \"w\", encoding=\"utf8\") as output_f:\n",
    "        output_f.write(\"TCR\\tAbundance\\n\")\n",
    "\n",
    "        for tcr in output_file:\n",
    "            output_f.write(\"{0}\\t{1}\\n\".format(tcr[0], tcr[1]))\n",
    "\n",
    "    print(\"Saved processed file paths: \" + output_file_path)\n"
   ]
  },
  {
   "cell_type": "code",
   "execution_count": null,
   "id": "12ba1705",
   "metadata": {},
   "outputs": [],
   "source": []
  }
 ],
 "metadata": {
  "kernelspec": {
   "display_name": "Python 3 (ipykernel)",
   "language": "python",
   "name": "python3"
  },
  "language_info": {
   "codemirror_mode": {
    "name": "ipython",
    "version": 3
   },
   "file_extension": ".py",
   "mimetype": "text/x-python",
   "name": "python",
   "nbconvert_exporter": "python",
   "pygments_lexer": "ipython3",
   "version": "3.10.9"
  }
 },
 "nbformat": 4,
 "nbformat_minor": 5
}
